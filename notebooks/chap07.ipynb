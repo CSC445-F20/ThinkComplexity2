{
 "cells": [
  {
   "cell_type": "markdown",
   "metadata": {},
   "source": [
    "# Physical modeling\n",
    "\n",
    "Code examples from [Think Complexity, 2nd edition](https://thinkcomplex.com).\n",
    "\n",
    "Copyright 2016 Allen Downey, [MIT License](http://opensource.org/licenses/MIT)"
   ]
  },
  {
   "cell_type": "markdown",
   "metadata": {},
   "source": [
    "\n",
    "## Team 3\n",
    "\n",
    "Eleni L., Immanuela Belaineh, May Jue"
   ]
  },
  {
   "cell_type": "markdown",
   "metadata": {},
   "source": [
    "## Introduction\n",
    "Cellular automata have applications in various areas, including physics, biology, and many others. Here are some examples that could be described as a cellular automaton, traffic flows, forest fires, running water, liquid dissolving, and air patterns. People have been wondering whether the universe is a cellular automaton or not. If it is, then we will be able to gain new information and have a further understanding of it. Then, one might wonder if our world, which is currently well described, at our current level of understanding, by physics with particle-like objects, could be a CA at its most fundamental level. Many scholars have tried to develop theories in order to understand our world based on cellular automata. Edward Fredkin exposed what he terms the \"finite nature hypothesis,\" which is the idea that \"ultimately every quantity of physics, including space and time, will turn out to be discrete and finite.\" CA methods allow the simulation of a wide range of real-world effects and situations so far. "
   ]
  },
  {
   "cell_type": "markdown",
   "metadata": {},
   "source": [
    "### Import statement"
   ]
  },
  {
   "cell_type": "code",
   "execution_count": 1,
   "metadata": {},
   "outputs": [],
   "source": [
    "%matplotlib inline\n",
    "\n",
    "import matplotlib.pyplot as plt\n",
    "import numpy as np\n",
    "import seaborn as sns\n",
    "\n",
    "from utils import decorate, savefig"
   ]
  },
  {
   "cell_type": "markdown",
   "metadata": {},
   "source": [
    "## Diffusion\n",
    "\n",
    "Diffusion is the movement of a substance from an area of high concentration to an area of low concentration.\n",
    "In the real world, diffusion happens in liquids and gases because their particles move randomly from place to place.\n",
    "Diffusion is an important process for living things; it is how substances move in and out of cells.\n",
    "Before we get to a Reaction-Diffusion model, we'll start with simple diffusion. The kernel computes the difference between each cell and the sum of its neighbors. At each time step, we compute this difference, multiply by a constant, and add it back in to the array."
   ]
  },
  {
   "cell_type": "code",
   "execution_count": 2,
   "metadata": {},
   "outputs": [],
   "source": [
    "from scipy.signal import correlate2d\n",
    "from Cell2D import Cell2D, draw_array\n",
    "\n",
    "\n",
    "class Diffusion(Cell2D):\n",
    "    \"\"\"Diffusion Cellular Automaton.\"\"\"\n",
    "    \n",
    "    kernel = np.array([[0, 1, 0],\n",
    "                       [1,-4, 1],\n",
    "                       [0, 1, 0]])\n",
    "\n",
    "    def __init__(self, n, r=0.1):\n",
    "        \"\"\"Initializes the attributes.\n",
    "\n",
    "        n: number of rows\n",
    "        r: diffusion rate constant\n",
    "        \"\"\"\n",
    "        self.r = r\n",
    "        self.array = np.zeros((n, n), np.float)\n",
    "        \n",
    "    def add_cells(self, row, col, *strings):\n",
    "        \"\"\"Adds cells at the given location.\n",
    "\n",
    "        row: top row index\n",
    "        col: left col index\n",
    "        strings: list of strings of 0s and 1s\n",
    "        \"\"\"\n",
    "        for i, s in enumerate(strings):\n",
    "            self.array[row+i, col:col+len(s)] = np.array([int(b) for b in s])\n",
    "\n",
    "    def step(self):\n",
    "        \"\"\"Executes one time step.\"\"\"\n",
    "        c = correlate2d(self.array, self.kernel, mode='same')\n",
    "        self.array += self.r * c\n",
    "        \n",
    "    def draw(self):\n",
    "        \"\"\"Draws the cells.\"\"\"\n",
    "        draw_array(self.array, cmap='Reds')"
   ]
  },
  {
   "cell_type": "markdown",
   "metadata": {},
   "source": [
    "### Complexity analysis\n",
    "| Function | Big O |\n",
    "| ----------- | ----------- |\n",
    "| init | O(1) |\n",
    "| add_cells | O(n) |\n",
    "| step | O(1) |\n",
    "| draw | O(1) |\n",
    "\n",
    "The functions init() is O(1) because it is defining the variables. The function add_cells() is O(n) because for each one of the string, it is adding it on the array. For step(), it is calculating the step with the given equation. For the draw(), it is O(1) because it is calling the draw_array function.\n",
    "\n",
    "### Examples\n",
    "Here's a simple example starting with an \"island\" of material in the middle."
   ]
  },
  {
   "cell_type": "code",
   "execution_count": 3,
   "metadata": {},
   "outputs": [
    {
     "data": {
      "image/png": "[encoded data removed]",
      "text/plain": [
       "<Figure size 432x288 with 1 Axes>"
      ]
     },
     "metadata": {},
     "output_type": "display_data"
    }
   ],
   "source": [
    "diff = Diffusion(n=9, r=0.1)\n",
    "diff.add_cells(3, 3, '111', '111', '111')\n",
    "diff.draw()"
   ]
  },
  {
   "cell_type": "markdown",
   "metadata": {},
   "source": [
    "And here's how it behaves over time: the \"material\" spreads out until the level is equal on the whole array."
   ]
  },
  {
   "cell_type": "code",
   "execution_count": null,
   "metadata": {},
   "outputs": [
    {
     "data": {
      "image/png": "[encoded data removed]",
      "text/plain": [
       "<Figure size 432x288 with 1 Axes>"
      ]
     },
     "metadata": {},
     "output_type": "display_data"
    }
   ],
   "source": [
    "diff.animate(frames=20, interval=0.1)"
   ]
  },
  {
   "cell_type": "code",
   "execution_count": null,
   "metadata": {},
   "outputs": [],
   "source": [
    "from utils import three_frame\n",
    "\n",
    "diff = Diffusion(n=9, r=0.1)\n",
    "diff.add_cells(3, 3, '111', '111', '111')\n",
    "three_frame(diff, [0, 5, 10])\n",
    "\n",
    "savefig('figs/chap07-1')"
   ]
  },
  {
   "cell_type": "markdown",
   "metadata": {},
   "source": [
    "## Reaction-Diffusion\n",
    "\n",
    "Now we'll add a second material in the middle of the array and let them interact. As the two materials diffuse over time that makes them interact with each other is the reaction. The following function helps with setting up the initial conditions."
   ]
  },
  {
   "cell_type": "code",
   "execution_count": null,
   "metadata": {},
   "outputs": [],
   "source": [
    "def add_island(a, height=0.1):\n",
    "    \"\"\"Adds an island in the middle of the array.\n",
    "            \n",
    "    height: height of the island\n",
    "    \"\"\"\n",
    "    n, m = a.shape\n",
    "    radius = min(n, m) // 20\n",
    "    i = n//2\n",
    "    j = m//2\n",
    "    a[i-radius:i+radius, j-radius:j+radius] += height"
   ]
  },
  {
   "cell_type": "markdown",
   "metadata": {},
   "source": [
    "### Complexity Analysis\n",
    "| Function | Big O |\n",
    "| ----------- | ----------- |\n",
    "| add_island | O(1) |\n",
    "\n",
    "For the RD model, we have two arrays, one for each chemical and two concentrations.\n",
    "\n",
    "Following [Sims](http://www.karlsims.com/rd.html), I'm using a kernel that includes the diagonal elements.  They have lower weights because they are farther from the center cell. The Laplacian is performed with a 3x3 convolution with center weight -1, adjacent neighbors .2, and diagonals .05. The grid is initialized with A=1, B=0, and a small area is seeded with B=1.\n",
    "\n",
    "$$ Kernel = \\begin{pmatrix}\n",
    ".05 & .2 & .05 \\\\\n",
    ".2 & -1 & .2 \\\\\n",
    ".05 & .2 & .05\n",
    "\\end{pmatrix}$$ \n",
    "\n",
    "The `step` function computes these functions:\n",
    "\n",
    "$\\Delta A = r_a \\nabla^2 A - AB^2 + f (1-A) $\n",
    "\n",
    "$\\Delta B = r_b \\nabla^2 B + AB^2 - (k+f) B $\n",
    "\n",
    "where $\\nabla^2$ is the Laplace operator the kernel is intended to approximate.\n",
    "\n",
    "The grid is repeatedly updated using the following equations to update the concentrations\n",
    "of A and B in each cell, and model the behaviors described above.\n",
    "\n",
    "$ A' = A + (\\Delta A = r_a \\nabla^2 A - AB^2 + f (1-A))  \\Delta t $\n",
    "\n",
    "$ B' = B + (\\Delta B = r_b \\nabla^2 B + AB^2 - (k+f) B)  \\Delta t $\n"
   ]
  },
  {
   "cell_type": "code",
   "execution_count": null,
   "metadata": {},
   "outputs": [],
   "source": [
    "class ReactionDiffusion(Diffusion):\n",
    "    \"\"\"Reaction-Diffusion Cellular Automaton.\"\"\"\n",
    "\n",
    "    kernel = np.array([[.05, .2, .05],\n",
    "                       [ .2, -1, .2],\n",
    "                       [.05, .2, .05]])\n",
    "\n",
    "    def __init__(self, n, params, noise=0.1):\n",
    "        \"\"\"Initializes the attributes.\n",
    "\n",
    "        n: number of rows\n",
    "        params: tuple of (Da, Db, f, k)\n",
    "        \"\"\"        \n",
    "        self.params = params\n",
    "        self.array1 = np.ones((n, n), dtype=float)\n",
    "        self.array2 = noise * np.random.random((n, n))\n",
    "        add_island(self.array2)\n",
    "        \n",
    "    def step(self):\n",
    "        \"\"\"Executes one time step.\"\"\"\n",
    "        A = self.array1\n",
    "        B = self.array2\n",
    "        ra, rb, f, k = self.params\n",
    "\n",
    "        options = dict(mode='same', boundary='wrap')\n",
    "\n",
    "        cA = correlate2d(A, self.kernel, **options)\n",
    "        cB = correlate2d(B, self.kernel, **options)\n",
    "        reaction = A * B**2\n",
    "        #ra, rb are the diffusion rates\n",
    "        # cA, cB are teh Laplacian 2d funstions\n",
    "        # reaction is the chance that on \"molecule\" of A and 2 \"molecules\" of B will meet\n",
    "        # f(1-A) is the feed which is the rate that we add A.\n",
    "        # (f+k)* B shows the kill rate which is the rate that B is removed\n",
    "        self.array1 += ra * cA - reaction + f * (1-A) \n",
    "        self.array2 += rb * cB + reaction - (f+k) * B\n",
    "        \n",
    "    def loop100(self):\n",
    "        self.loop(100)\n",
    "        \n",
    "    def draw(self):\n",
    "        \"\"\"Draws the cells.\"\"\"\n",
    "        options = dict(interpolation='bicubic', \n",
    "                       vmin=None, vmax=None)\n",
    "        draw_array(self.array1, cmap='Reds', **options)\n",
    "        draw_array(self.array2, cmap='Blues', **options)"
   ]
  },
  {
   "cell_type": "markdown",
   "metadata": {},
   "source": [
    "### Explaning the step function\n",
    "ra, rb are the diffusion rates\n",
    "cA, cB are teh Laplacian 2d functions\n",
    "reaction is the chance that on \"molecule\" of A and 2 \"molecules\" of B will meet\n",
    "f(1-A) is the feed which is the rate that we add A.\n",
    "f+k)* B shows the kill rate which is the rate that B is removed\n",
    "\n",
    "### Complexity analysis\n",
    "Function     |  Big  O      \n",
    " ----------- | ------------------- \n",
    " init        | O(1)        \n",
    " step        | O(n<sup>2</sup>)    \n",
    " loop100     | O(n<sup>2</sup>)    \n",
    " draw        | O(1)       \n",
    "\n",
    "\n",
    "The fuction init() is O(1) as it is assigning values, and calls the function add_islands(). For the step() function it first assigns values and then calculates the cA, cB, and reaction. For loop100() it is O(1) because it calls self.loop(), which controls how many times . For the draw(), it is O(1) because it is calling the draw_array function.\n",
    "\n",
    "The viewer for the CA shows both arrays with some transparency, so we can see where one, the other, or both, levels are high.\n",
    "\n",
    "Unlike previous CAs, the state of each cell is meant to represent a continuous quantity, so it is appropriate to interpolate.\n",
    "\n",
    "Note that `draw` has to make copies of the arrays because `step` updates the arrays in place."
   ]
  },
  {
   "cell_type": "markdown",
   "metadata": {},
   "source": [
    "### Examples\n",
    "Here's an example using `params3`, which yields blue dots that seem to undergo mitosis."
   ]
  },
  {
   "cell_type": "code",
   "execution_count": null,
   "metadata": {},
   "outputs": [],
   "source": [
    "params1 = 0.5, 0.25, 0.035, 0.057   # pink spots and stripes\n",
    "params2 = 0.5, 0.25, 0.055, 0.062   # coral\n",
    "params3 = 0.5, 0.25, 0.039, 0.065   # blue spots\n",
    "\n",
    "rd = ReactionDiffusion(n=100, params=params1)\n",
    "rd.draw()"
   ]
  },
  {
   "cell_type": "markdown",
   "metadata": {},
   "source": [
    "Here's a random starting condition with lots of A, a sprinkling of B everywhere, and an island of B in the middle."
   ]
  },
  {
   "cell_type": "code",
   "execution_count": null,
   "metadata": {},
   "outputs": [],
   "source": [
    "rd.animate(frames=50, step=rd.loop100)"
   ]
  },
  {
   "cell_type": "markdown",
   "metadata": {},
   "source": [
    "\n",
    "I'll use the following function to generate figures using different parameters. The following function calls the class Reaction diffucion multiple times using different parameters.\n"
   ]
  },
  {
   "cell_type": "code",
   "execution_count": null,
   "metadata": {},
   "outputs": [],
   "source": [
    "def make_rd(f, k, n=100):\n",
    "    \"\"\"Makes a ReactionDiffusion object with given parameters.\n",
    "    \"\"\"\n",
    "    params = 0.5, 0.25, f, k\n",
    "    rd = ReactionDiffusion(n, params)\n",
    "    return rd"
   ]
  },
  {
   "cell_type": "markdown",
   "metadata": {},
   "source": [
    "The following parameters yield pink stripes and spots on a blue background:"
   ]
  },
  {
   "cell_type": "code",
   "execution_count": null,
   "metadata": {},
   "outputs": [],
   "source": [
    "from utils import three_frame\n",
    "\n",
    "def plot_rd(f, k, filename):\n",
    "    \"\"\"Makes a ReactionDiffusion object with given parameters.\n",
    "    \"\"\"\n",
    "    params = 0.5, 0.25, f, k\n",
    "    rd = ReactionDiffusion(100, params)\n",
    "\n",
    "    three_frame(rd, [1000, 2000, 4000])\n",
    "    \n",
    "    savefig(filename)\n",
    "    \n",
    "plot_rd(0.035, 0.057, 'figs/chap07-2')"
   ]
  },
  {
   "cell_type": "markdown",
   "metadata": {},
   "source": [
    "The following parameters yield blue stripes on a pink background."
   ]
  },
  {
   "cell_type": "code",
   "execution_count": null,
   "metadata": {},
   "outputs": [],
   "source": [
    "plot_rd(0.055, 0.062, 'figs/chap07-3')"
   ]
  },
  {
   "cell_type": "markdown",
   "metadata": {},
   "source": [
    "The following parameters yield blue dots on a pink background"
   ]
  },
  {
   "cell_type": "code",
   "execution_count": null,
   "metadata": {},
   "outputs": [],
   "source": [
    "plot_rd(0.039, 0.065, 'figs/chap07-4')"
   ]
  },
  {
   "cell_type": "markdown",
   "metadata": {},
   "source": [
    "## Percolation\n",
    "\n",
    "It is a process where liquid flow through semi-porous material and we can see this happening in the example of when we dip the tip of a paper in water. This also happen in nature during rock formation but they can also be used to study epidemics and networks of electrical resistors.\n",
    "\n",
    "#### Percolation Model\n",
    "\n",
    "In the percolation model, each cell is porous with probability `p` or non-porous with the probability `1-p`.  We start with a row of wet cells at the time.  During each time step, a cell becomes wet if it is porous and at least one neighbor is wet (using a 4-cell neighborhood).  For each value of `p` we compute the probability that water reaches the bottom row.\n",
    "\n",
    "Porous cells have state `1` and wet cells have state `5`, so if a cell has a wet neighbor, the sum of the neighbors will be `5` or more.\n",
    "\n",
    "#### Code\n",
    "The goal of the following code is to iterate the steps to simulate percolation. We start with a row of wet cells at the top follow by a random array of porus and non-porus cells based on the probablity `q`. We will iterate through to cells and if the cells have any wet neighbor, the cell itself will become a wet cell. This will continue until we reach the bottom row or if there is no longer any changes.\n",
    "\n",
    "In the cell below, we can see that our Kernel is set up to have 1 to the top, bottom, left, and right but not the diagonal of the center because each cell will not be impacted by the diagonals.\n",
    "The self.array is the state of each cell. In the step function, we can see that the array is updated when the neighbor is checked and the sum is 5 or greater. The cell then become 5, indicating that it is a wet cell.\n",
    "The num_wet add the total number of wet cell. This is so that we will know if there is any new wet cell in each iteration or if we have reach a poit where there is no changes.\n",
    "https://www2.cs.duke.edu/courses/compsci307d/fall20/assign/03_simulation/PercolationCA.pdf\n"
   ]
  },
  {
   "cell_type": "code",
   "execution_count": null,
   "metadata": {},
   "outputs": [],
   "source": [
    "from scipy.signal import correlate2d\n",
    "from Cell2D import Cell2D\n",
    "\n",
    "\n",
    "class Percolation(Cell2D):\n",
    "    \"\"\"Percolation Cellular Automaton.\"\"\"\n",
    "\n",
    "    kernel = np.array([[0, 1, 0],\n",
    "                       [1, 0, 1],\n",
    "                       [0, 1, 0]])\n",
    "\n",
    "    def __init__(self, n, q=0.5):\n",
    "        \"\"\"Initializes the attributes.\n",
    "\n",
    "        n: number of rows\n",
    "        q: probability of porousness\n",
    "        \"\"\"\n",
    "        self.q = q\n",
    "        self.array = np.random.choice([1, 0], (n, n), p=[q, 1-q])\n",
    "        \n",
    "        # fill the top row with wet cells\n",
    "        self.array[0] = 5\n",
    "\n",
    "    def step(self):\n",
    "        \"\"\"Executes one time step.\"\"\"\n",
    "        a = self.array\n",
    "        c = correlate2d(a, self.kernel, mode='same')\n",
    "        self.array[(a==1) & (c>=5)] = 5\n",
    "        \n",
    "    def num_wet(self):\n",
    "        \"\"\"Total number of wet cells.\"\"\"\n",
    "        return np.sum(self.array == 5)\n",
    "    \n",
    "    def bottom_row_wet(self):\n",
    "        \"\"\"Number of wet cells in the bottom row.\"\"\"\n",
    "        return np.sum(self.array[-1] == 5)\n",
    "    \n",
    "    def draw(self):\n",
    "        \"\"\"Draws the cells.\"\"\"\n",
    "        draw_array(self.array, cmap='Blues', vmax=5)"
   ]
  },
  {
   "cell_type": "markdown",
   "metadata": {},
   "source": [
    "#### Big O\n",
    "The Big O of this section of the code is O(n<sup>2</sup>) . The function   `__init__` has the Big O if O(n<sup>2</sup>) since it is creating random numbers for evry cells in a matrix of `n` by `n`. And in the step function, it is also O(n<sup>2</sup>) since it is going through everything in the matrix `n` by `n` to calculate if it will become wet."
   ]
  },
  {
   "cell_type": "markdown",
   "metadata": {},
   "source": [
    "Here an example that shows the first three time steps."
   ]
  },
  {
   "cell_type": "code",
   "execution_count": null,
   "metadata": {},
   "outputs": [],
   "source": [
    "n = 10\n",
    "q = 0.7\n",
    "np.random.seed(18)\n",
    "perc = Percolation(n, q)\n",
    "\n",
    "three_frame(perc, [1, 1, 1])\n",
    "\n",
    "savefig('figs/chap07-5')"
   ]
  },
  {
   "cell_type": "markdown",
   "metadata": {},
   "source": [
    "Changing the `q` to a lower number"
   ]
  },
  {
   "cell_type": "code",
   "execution_count": null,
   "metadata": {},
   "outputs": [],
   "source": [
    "n = 10\n",
    "q1 = 0.2\n",
    "np.random.seed(18)\n",
    "perc1 = Percolation(n, q1)\n",
    "\n",
    "three_frame(perc1, [1, 1, 1])\n",
    "\n",
    "savefig('figs/chap07-5')"
   ]
  },
  {
   "cell_type": "markdown",
   "metadata": {},
   "source": [
    "As we can see above, the cells is not making many more changes after the second iteration because the porus cells are blocked. <br><br>\n",
    "Changing `q` to a higher number"
   ]
  },
  {
   "cell_type": "code",
   "execution_count": null,
   "metadata": {},
   "outputs": [],
   "source": [
    "n = 10\n",
    "q2 = 0.9\n",
    "np.random.seed(18)\n",
    "perc2 = Percolation(n, q2)\n",
    "\n",
    "three_frame(perc2, [1, 1, 1])\n",
    "\n",
    "savefig('figs/chap07-5')"
   ]
  },
  {
   "cell_type": "markdown",
   "metadata": {},
   "source": [
    "In the examples above, we added some changes to `q` so that we can see that the non-porus cells are white and the porus are light blue. The wet cells are dark blue. If we were to change the `q` to a lower number, there will be less wet cells since there are more non-porus cells. If we change it to a higher number, there will we more wet cells with less non-porus cells. The higher the `q` is, the faster the wet cells travel down the matrix as there is nothing to stop it or slow it down.<br>\n",
    "`test_perc` runs a percolation model and returns `True` if water reaches the bottom row and `False` otherwise. In each iteration, the function is calling the function `step()` to check the neighbor and if this cell will become wet. Then it check if the bottom row is wet, if so, it will return True. It also check to see if there are any new wet cells, if there is none, it means that there is no longer any changes can be made, thus it stop and return false."
   ]
  },
  {
   "cell_type": "code",
   "execution_count": null,
   "metadata": {},
   "outputs": [],
   "source": [
    "def test_perc(perc):\n",
    "    \"\"\"Run a percolation model.\n",
    "    \n",
    "    Runs until water gets to the bottom row or nothing changes.\n",
    "    \n",
    "    returns: boolean, whether there's a percolating cluster\n",
    "    \"\"\"\n",
    "    num_wet = perc.num_wet()\n",
    "\n",
    "    while True:\n",
    "        perc.step()\n",
    "\n",
    "        if perc.bottom_row_wet():\n",
    "            return True\n",
    "        \n",
    "        new_num_wet = perc.num_wet()\n",
    "        if new_num_wet == num_wet:\n",
    "            return False\n",
    "\n",
    "        num_wet = new_num_wet"
   ]
  },
  {
   "cell_type": "markdown",
   "metadata": {},
   "source": [
    "### Big O\n",
    "The Big O of this function is O(n<sup>2</sup>). In the best case, this code will be constatn O(1) because it means that there is non-porus cells covering the whole second row and it can not advance anymore.<br>\n",
    "The complexicity is O(1/2n<sup>2</sup>), thus the Big O is B(n<sup>2</sup>).<br> The image below shows the the worst case for this function where it would non-porus cells that would force the wet cells to take as long as possible to reach the bottom. This shows O(1/2n<sup>2</sup>) because it will run half of n<sup>2</sup> times as half of the other cells are non-porus. <br> ![](fig/percolation.png)"
   ]
  },
  {
   "cell_type": "markdown",
   "metadata": {},
   "source": [
    "Run a small example. "
   ]
  },
  {
   "cell_type": "code",
   "execution_count": null,
   "metadata": {},
   "outputs": [],
   "source": [
    "np.random.seed(18)\n",
    "perc = Percolation(n, q)\n",
    "test_perc(perc)"
   ]
  },
  {
   "cell_type": "markdown",
   "metadata": {},
   "source": [
    "And here's the animation"
   ]
  },
  {
   "cell_type": "code",
   "execution_count": null,
   "metadata": {},
   "outputs": [],
   "source": [
    "np.random.seed(18)\n",
    "perc = Percolation(n, q)\n",
    "perc.animate(frames=12, interval=0.3)"
   ]
  },
  {
   "cell_type": "markdown",
   "metadata": {},
   "source": [
    "For a given `q` we can estimate the probability of a percolating cluster by running several random configurations.\n",
    "This means that we are testing which point of `q` can water reach the bottom. We will pass in differnt value for `q` and create 100 different iteration to see how many times will it reach the bottom based on the `q` value. "
   ]
  },
  {
   "cell_type": "code",
   "execution_count": null,
   "metadata": {},
   "outputs": [],
   "source": [
    "def estimate_prob_percolating(n=100, q=0.5, iters=100):\n",
    "    \"\"\"Estimates the probability of percolating.\n",
    "    \n",
    "    n: int number of rows and columns\n",
    "    q: probability that a cell is permeable\n",
    "    iters: number of arrays to test\n",
    "    \n",
    "    returns: float probability\n",
    "    \"\"\"\n",
    "    t = [test_perc(Percolation(n, q)) for i in range(iters)]\n",
    "    return np.mean(t)"
   ]
  },
  {
   "cell_type": "markdown",
   "metadata": {},
   "source": [
    "At `q=0.55` the probability is low."
   ]
  },
  {
   "cell_type": "code",
   "execution_count": null,
   "metadata": {},
   "outputs": [],
   "source": [
    "fraction = estimate_prob_percolating(q=0.55)\n",
    "print(fraction)"
   ]
  },
  {
   "cell_type": "markdown",
   "metadata": {},
   "source": [
    "At `p=0.65` the probability is high. Eventhough we only increased by .05, the change is very rapid, thus we know that the critical value is around `0.6`"
   ]
  },
  {
   "cell_type": "code",
   "execution_count": null,
   "metadata": {},
   "outputs": [],
   "source": [
    "fraction = estimate_prob_percolating(q=0.6)\n",
    "print(fraction)"
   ]
  },
  {
   "cell_type": "markdown",
   "metadata": {},
   "source": [
    "At `p=0.65` the probability is high."
   ]
  },
  {
   "cell_type": "code",
   "execution_count": null,
   "metadata": {},
   "outputs": [],
   "source": [
    "fraction = estimate_prob_percolating(q=0.65)\n",
    "print(fraction)"
   ]
  },
  {
   "cell_type": "markdown",
   "metadata": {},
   "source": [
    "We can search for the critical value by random walk: if there's a percolating cluster, we decrease `q`; otherwise we increase it.\n",
    "\n",
    "The path should go to the critical point and wander around it.\n",
    "The critical point we are looking for here can be compare to water freezing point where it change from liquid to solid. But, in our case with critical point, we want ot know at which number of `q`, will the cluster happen"
   ]
  },
  {
   "cell_type": "code",
   "execution_count": null,
   "metadata": {},
   "outputs": [],
   "source": [
    "def find_critical(n=100, q=0.6, iters=100):\n",
    "    \"\"\"Estimate q_crit by random walk.\n",
    "    \n",
    "    returns: list of q that should wander around q_crit\n",
    "    \"\"\"\n",
    "    qs = [q]\n",
    "    for i in range(iters):\n",
    "        perc = Percolation(n, q)\n",
    "        if test_perc(perc):\n",
    "            q -= 0.005\n",
    "        else:\n",
    "            q += 0.005\n",
    "        qs.append(q)\n",
    "    return qs"
   ]
  },
  {
   "cell_type": "markdown",
   "metadata": {},
   "source": [
    "Let's see whether the critical value depends on the size of the grid.\n",
    "\n",
    "With `n=50`, the random walk wanders around 0.59."
   ]
  },
  {
   "cell_type": "code",
   "execution_count": null,
   "metadata": {},
   "outputs": [],
   "source": [
    "%time qs = find_critical(n=50, iters=1000)\n",
    "plt.plot(qs)\n",
    "decorate(xlabel='Time steps', ylabel='Estimated q_crit')\n",
    "np.mean(qs)"
   ]
  },
  {
   "cell_type": "markdown",
   "metadata": {},
   "source": [
    "Larger values of `n` don't seem to change the critical value."
   ]
  },
  {
   "cell_type": "code",
   "execution_count": null,
   "metadata": {},
   "outputs": [],
   "source": [
    "%time qs = find_critical(n=100, iters=200)\n",
    "plt.plot(qs)\n",
    "decorate(xlabel='Time steps', ylabel='Estimated q_crit')\n",
    "np.mean(qs)"
   ]
  },
  {
   "cell_type": "code",
   "execution_count": null,
   "metadata": {},
   "outputs": [],
   "source": [
    "%time qs = find_critical(n=200, iters=40)\n",
    "plt.plot(qs)\n",
    "decorate(xlabel='Time steps', ylabel='Estimated q_crit')\n",
    "np.mean(qs)"
   ]
  },
  {
   "cell_type": "code",
   "execution_count": null,
   "metadata": {},
   "outputs": [],
   "source": [
    "%time qs = find_critical(n=400, iters=10)\n",
    "plt.plot(qs)\n",
    "decorate(xlabel='Time steps', ylabel='Estimated q_crit')\n",
    "np.mean(qs)"
   ]
  },
  {
   "cell_type": "markdown",
   "metadata": {},
   "source": [
    "We can see from the above example that the size does not have any affect on the critical point. From the `n` range of 50-400, the critical point reamin at around 0.59"
   ]
  },
  {
   "cell_type": "markdown",
   "metadata": {},
   "source": [
    "## Fractals"
   ]
  },
  {
   "cell_type": "markdown",
   "metadata": {},
   "source": [
    "Near the critical point, the cluster of wet cells forms a fractal.  We can see that visually in these examples:"
   ]
  },
  {
   "cell_type": "code",
   "execution_count": null,
   "metadata": {},
   "outputs": [],
   "source": [
    "np.random.seed(22)\n",
    "perc1 = Percolation(n=100, q=0.6)\n",
    "flag = test_perc(perc1)\n",
    "print(flag)\n",
    "perc1.draw()"
   ]
  },
  {
   "cell_type": "code",
   "execution_count": null,
   "metadata": {},
   "outputs": [],
   "source": [
    "np.random.seed(22)\n",
    "perc2 = Percolation(n=200, q=0.6)\n",
    "flag = test_perc(perc2)\n",
    "print(flag)\n",
    "perc2.draw()"
   ]
  },
  {
   "cell_type": "code",
   "execution_count": null,
   "metadata": {},
   "outputs": [],
   "source": [
    "np.random.seed(22)\n",
    "perc3 = Percolation(n=300, q=0.6)\n",
    "flag = test_perc(perc3)\n",
    "print(flag)\n",
    "perc3.draw()"
   ]
  },
  {
   "cell_type": "code",
   "execution_count": null,
   "metadata": {},
   "outputs": [],
   "source": [
    "plt.figure(figsize=(10, 4))\n",
    "\n",
    "plt.subplot(1, 3, 1)\n",
    "perc1.draw()\n",
    "\n",
    "plt.subplot(1, 3, 2)\n",
    "perc2.draw()\n",
    "\n",
    "plt.subplot(1, 3, 3)\n",
    "perc3.draw()\n",
    "\n",
    "plt.tight_layout()\n",
    "savefig('figs/chap07-6')"
   ]
  },
  {
   "cell_type": "markdown",
   "metadata": {},
   "source": [
    "To measure fractal dimension, let's start with 1D CAs."
   ]
  },
  {
   "cell_type": "code",
   "execution_count": null,
   "metadata": {},
   "outputs": [],
   "source": [
    "from Cell1D import Cell1D, draw_ca"
   ]
  },
  {
   "cell_type": "markdown",
   "metadata": {},
   "source": [
    "Here's one rule that seems clearly 1D, one that is clearly 2D, and one that we can't obviously classify."
   ]
  },
  {
   "cell_type": "code",
   "execution_count": null,
   "metadata": {
    "scrolled": true
   },
   "outputs": [],
   "source": [
    "plt.figure(figsize=(10, 4))\n",
    "\n",
    "plt.subplot(1, 3, 1)\n",
    "draw_ca(20)\n",
    "\n",
    "plt.subplot(1, 3, 2)\n",
    "draw_ca(50)\n",
    "\n",
    "plt.subplot(1, 3, 3)\n",
    "draw_ca(18)\n",
    "\n",
    "plt.tight_layout()\n",
    "savefig('figs/chap07-7')"
   ]
  },
  {
   "cell_type": "markdown",
   "metadata": {},
   "source": [
    "The following function creates a 1D CA and steps through time, counting the number of on cells after each time step."
   ]
  },
  {
   "cell_type": "markdown",
   "metadata": {},
   "source": [
    "Fractals are complex paterns that are formed from simple patterns because of a large number of reppition. For instance a snowflake is considered a fractal because starting from a simple triangle each side can be divided to become 4 sided and each four sides will become four as well. This can lead to 3 * 4^n sides. As n (how many times the recursion itterates) increases the image becomes more complex. The volume of the pattern remains the same, only the surface area changes. \n"
   ]
  },
  {
   "cell_type": "markdown",
   "metadata": {},
   "source": [
    "![](fig/Fractals.gif \"Fractals\")\n",
    "![](fig/Triangle.gif \"Triangle\")"
   ]
  },
  {
   "cell_type": "code",
   "execution_count": null,
   "metadata": {},
   "outputs": [],
   "source": [
    "def count_cells(rule, n=500):\n",
    "    \"\"\"Create a 1-D CA and count cells.\n",
    "    \n",
    "    rule: int rule number\n",
    "    n: number of steps\n",
    "    \"\"\"\n",
    "    ca = Cell1D(rule, n)\n",
    "    ca.start_single()\n",
    "    \n",
    "    res = []\n",
    "    for i in range(1, n):\n",
    "        cells = np.sum(ca.array)\n",
    "        res.append((i, i**2, cells))\n",
    "        ca.step()\n",
    "        \n",
    "    return res"
   ]
  },
  {
   "cell_type": "markdown",
   "metadata": {},
   "source": [
    "This function plots the results, comparing the rate of cell growth to `size` and `size**2`.\n",
    "\n",
    "And it uses linregress to estimate the slope of the line on a log-log scale."
   ]
  },
  {
   "cell_type": "code",
   "execution_count": null,
   "metadata": {},
   "outputs": [],
   "source": [
    "from scipy.stats import linregress\n",
    "\n",
    "def test_fractal(rule, ylabel='Number of Cells'):\n",
    "    \"\"\"Compute the fractal dimension of a rule.\n",
    "    \n",
    "    rule: int rule number\n",
    "    ylabel: string\n",
    "    \"\"\"\n",
    "    res = count_cells(rule)\n",
    "    steps, steps2, cells = zip(*res)\n",
    "\n",
    "    options = dict(linestyle='dashed', color='gray', alpha=0.7)\n",
    "    plt.plot(steps, steps2, label='d=2', **options)\n",
    "    plt.plot(steps, cells, label='rule=%d' % rule)\n",
    "    plt.plot(steps, steps, label='d=1', **options)\n",
    "\n",
    "    decorate(xscale='log', yscale='log',\n",
    "             xlabel='Time Steps',\n",
    "             ylabel=ylabel,\n",
    "             xlim=[1, 600], loc='upper left')\n",
    "\n",
    "    for ys in [cells]:\n",
    "        params = linregress(np.log(steps), np.log(ys))\n",
    "        print(params[0])"
   ]
  },
  {
   "cell_type": "markdown",
   "metadata": {},
   "source": [
    "The linear rule has dimension close to 1."
   ]
  },
  {
   "cell_type": "code",
   "execution_count": null,
   "metadata": {},
   "outputs": [],
   "source": [
    "test_fractal(20)"
   ]
  },
  {
   "cell_type": "markdown",
   "metadata": {},
   "source": [
    "The triangular rule has dimension close to 2."
   ]
  },
  {
   "cell_type": "code",
   "execution_count": null,
   "metadata": {},
   "outputs": [],
   "source": [
    "test_fractal(50)"
   ]
  },
  {
   "cell_type": "markdown",
   "metadata": {},
   "source": [
    "And the Sierpinski triangle has fractal dimension approximately 1.57"
   ]
  },
  {
   "cell_type": "code",
   "execution_count": null,
   "metadata": {},
   "outputs": [],
   "source": [
    "test_fractal(18)"
   ]
  },
  {
   "cell_type": "code",
   "execution_count": null,
   "metadata": {},
   "outputs": [],
   "source": [
    "plt.figure(figsize=(10, 4))\n",
    "\n",
    "plt.subplot(1, 3, 1)\n",
    "test_fractal(20)\n",
    "\n",
    "plt.subplot(1, 3, 2)\n",
    "test_fractal(50, ylabel='')\n",
    "\n",
    "plt.subplot(1, 3, 3)\n",
    "test_fractal(18, ylabel='')\n",
    "\n",
    "savefig('figs/chap07-8')"
   ]
  },
  {
   "cell_type": "markdown",
   "metadata": {},
   "source": [
    "Mathematically, the fractal dimension is supposed to be:"
   ]
  },
  {
   "cell_type": "code",
   "execution_count": null,
   "metadata": {},
   "outputs": [],
   "source": [
    "np.log(3) / np.log(2)"
   ]
  },
  {
   "cell_type": "markdown",
   "metadata": {},
   "source": [
    "## Fractals in percolation models\n",
    "\n",
    "We can measure the fractal dimension of a percolation model by measuring how the number of wet cells scales as we increase the size of a bounding box."
   ]
  },
  {
   "cell_type": "markdown",
   "metadata": {},
   "source": [
    "The following function takes a percolation model that has run to completion.  It computes bounding boxes with sizes from 10 up to `n-1`, positioned in the center of the array.\n",
    "\n",
    "For each bounding box it counts the number of wet cells."
   ]
  },
  {
   "cell_type": "code",
   "execution_count": null,
   "metadata": {},
   "outputs": [],
   "source": [
    "from scipy.stats import linregress\n",
    "\n",
    "def plot_perc_scaling(sizes, q):\n",
    "    res = []\n",
    "    for size in sizes:\n",
    "        perc = Percolation(size, q)\n",
    "        if test_perc(perc):\n",
    "            num_filled = perc.num_wet() - size\n",
    "            res.append((size, size**2, num_filled))\n",
    "        \n",
    "    sizes, cells, filled = zip(*res)\n",
    "    \n",
    "    options = dict(linestyle='dashed', color='gray', alpha=0.7)\n",
    "    plt.plot(sizes, cells, label='d=2', **options)\n",
    "    plt.plot(sizes, filled, '.', label='filled')\n",
    "    plt.plot(sizes, sizes, label='d=1', **options)\n",
    "    \n",
    "    decorate(xlabel='Array Size',\n",
    "                     ylabel='Cell Count',\n",
    "                     xscale='log', xlim=[9, 110], \n",
    "                     yscale='log', ylim=[9, 20000],\n",
    "                     loc='upper left')\n",
    "    \n",
    "    for ys in [cells, filled, sizes]:\n",
    "        params = linregress(np.log(sizes), np.log(ys))\n",
    "        print(params[0])"
   ]
  },
  {
   "cell_type": "markdown",
   "metadata": {},
   "source": [
    "If we plot the number of cells versus the size of the box on a log-log scale, the slope is the fractal dimension.\n",
    "\n",
    "When `q` is near the critical point, the fractal dimension of the wet cells is usually between 1.8 and 2.0, but it varies from one run to the next."
   ]
  },
  {
   "cell_type": "code",
   "execution_count": null,
   "metadata": {},
   "outputs": [],
   "source": [
    "sizes = np.arange(10, 101)\n",
    "plot_perc_scaling(sizes, q=0.59)\n",
    "\n",
    "savefig('figs/chap07-9')"
   ]
  },
  {
   "cell_type": "markdown",
   "metadata": {},
   "source": [
    "**Exercise:** In Chapter 7 we showed that the Rule 18 CA produces a fractal.\n",
    "Can you find other rules that produce fractals?  For each one,\n",
    "estimate its fractal dimension.\n",
    "\n",
    "Note: the `Cell1D` object in `Cell1D.py` does not wrap around from the left edge to the right, which creates some artifacts at the boundaries.  You might want to use `Wrap1D`, which is a child class of `Cell1D` that wraps around.  It is also defined in `Cell1D.py`."
   ]
  },
  {
   "cell_type": "markdown",
   "metadata": {},
   "source": [
    "**Exercise:** In 1990 Bak, Chen and Tang proposed a cellular automaton that is\n",
    "an abstract model of a forest fire.  Each cell is in one of three\n",
    "states: empty, occupied by a tree, or on fire.\n",
    "\n",
    "The rules of the CA are:\n",
    "\n",
    "* An empty cell becomes occupied with probability $p$.\n",
    "\n",
    "* A cell with a tree burns if any of its neighbors\n",
    "  is on fire.\n",
    "\n",
    "* A cell with a tree spontaneously burns, with\n",
    "  probability $f$, even if none of its neighbors is on fire.\n",
    "\n",
    "* A cell with a burning tree becomes an empty cell in the next\n",
    "  time step.\n",
    "\n",
    "Write a\n",
    "program that implements it.  You might want to inherit from `Cell2D`.\n",
    "Typical values for the parameters are\n",
    "$p=0.01$ and $f=0.001$, but you might want to experiment with other\n",
    "values.\n",
    "\n",
    "Starting from a random initial condition, run the CA until it reaches\n",
    "a steady state where the number of trees no longer increases or\n",
    "decreases consistently.  \n",
    "\n",
    "In steady state, is the geometry of the forest fractal?\n",
    "What is its fractal dimension?"
   ]
  },
  {
   "cell_type": "markdown",
   "metadata": {},
   "source": [
    "### Learning Outcomes\n",
    "\n",
    "**Eleni L.** -  I engaged with physical modeling, cellular automata and analyzed the complexity of the functions on those sections. I became more knowledgeable about the topics of Diffusion and Reaction, and how the change in the concentration is calculated while reaction and diffusion is happening. I found the applications extremely interesting, as it is important in both the molecular, cellular, and daily life. Last but not least, I got used to GitHub and how to work on GitHub.\n",
    "\n",
    "**Imma** - I got to learn about fractals and the different patterns in nature that are formed by the use of fractals. I also learned more about how to avoid merge conflicts in Jupiter notebooks by working on the same document since different images were rendered when each of us ran the notebooks and that caused some errors. Additionally, I spent quite some time thinking about complexity with my team, I would say that this assignment allowed me to broaden my understanding of complexity.\n",
    "\n",
    "**May** - I learned about complexity and what physical modeling is. I also learned about the diffusion models but since I focused mostly on the percolation section, I have a very deep understanding of the purpose of the model and how it works. We can use percolation models outside of just liquid as they can be used to also study epidemics and network electron resistors.\n",
    "\n",
    "### Conclusion\n",
    "\n",
    "Cellular automata have been an important topic for complexity analysis. While it has multiple applications in various areas, some of them include diffusion, reaction, and fractal patterns that appear in nature. Many times people have described natural phenomena on the cellular level, but people have been wondering whether the universe can be described as a cellular automaton or not. In our project: \n",
    "1. We understood more about how some physical modelings work\n",
    "2. We can represent real-life applications with the use of cellular automata\n",
    "3. We analyzed the function provided and examined the complexity\n",
    "4. We got more insight into how simple patterns can make up complex Level 4 models through recursive division such as in fractals.\n",
    "\n",
    "### Resources Used\n",
    "\n",
    "<cite> Cellular Automata for Physical Modelling (n.d.). Retrieved November 20, 2020, from https://tomforsyth1000.github.io/papers/cellular_automata_for_physical_modelling.html </cite>\n",
    "\n",
    "<cite> Chopard, B. (n.d.). Cellular Automata and lattice Boltzmann modeling of physical systems. Retrieved November 19, 2020, from http://cui.unige.ch/~chopard/FTP/Cours/ac-lb.pdf </cite>\n",
    "\n",
    "<cite> Crutchfield, J. P. (1993). The Calculi of Emergence: Computation, Dynamics, and Induction. Retrieved November 19, 2020, from http://csc.ucdavis.edu/~cmg/papers/CalcEmerg.pdf </cite>\n",
    "\n",
    "<cite> Fractal. (2020, October 31). Retrieved November 20, 2020, from https://en.wikipedia.org/wiki/Fractal </cite>\n",
    "\n",
    "<cite> Haggit, C. (2011, April 26).\"How Fractals Work\".\n",
    "HowStuffWorks.com. From https://science.howstuffworks.com/math-concepts/fractals.htm </cite>\n",
    "\n",
    "<cite> Gunther, S.(2020, May 7). “14 Amazing Fractals Found in Nature”. Treehugger. From \n",
    "https://www.treehugger.com/amazing-fractals-found-in-nature-4868776 </cite>\n",
    "\n",
    "<cite> Khanjary, M. Sabaei, M.  Meybodi, M. (2015). A Percolation Algorithm Based on Cellular Automata. From https://www2.cs.duke.edu/courses/compsci307d/fall20/assign/03_simulation/PercolationCA.pdf </cite>\n",
    "\n",
    "<cite> Mathema GIF [Digital image]. (n.d.). Retrieved November 19, 2020, from https://www.pinterest.com/pin/461970874249211723/ </cite>\n",
    "\n",
    "<cite> Menke, H.(2017, December 6). Animated Koch Snowflake. Stackexchange. From https://tex.stackexchange.com/questions/404925/animated-koch-snowflake </cite>\n",
    "\n",
    "<cite>  MITK12Videos. (2015, June 11). What Is A Fractal (and what are they good for)?[video file]. From https://www.youtube.com/watch?v=WFtTdf3I6Ug </cite>\n",
    "\n",
    "<cite> Pearce, J. L. (n.d.). On Complexity. Retrieved November 20, 2020, from https://runestone.academy/runestone/books/published/complex/index.html </cite>\n",
    "\n",
    "<cite>Sims, K. (2013). Reaction-Diffusion Tutorial. Retrieved November 20, 2020, from http://www.karlsims.com/rd.html </cite>\n",
    "\n",
    "<cite> Stiffler, L. (2012, January 3). The Porous Road Less Traveled. From https://www.sightline.org/2012/01/03/the-porous-road-less-traveled/ </cite>\n",
    "\n",
    "<cite> What is mitosis? (2017, May 17). Retrieved November 20, 2020, from https://www.yourgenome.org/facts/what-is-mitosis </cite>\n"
   ]
  }
 ],
 "metadata": {
  "kernelspec": {
   "display_name": "Python 3",
   "language": "python",
   "name": "python3"
  },
  "language_info": {
   "codemirror_mode": {
    "name": "ipython",
    "version": 3
   },
   "file_extension": ".py",
   "mimetype": "text/x-python",
   "name": "python",
   "nbconvert_exporter": "python",
   "pygments_lexer": "ipython3",
   "version": "3.8.3"
  }
 },
 "nbformat": 4,
 "nbformat_minor": 2
}
